{
 "cells": [
  {
   "cell_type": "code",
   "execution_count": 4,
   "id": "e3226439",
   "metadata": {},
   "outputs": [],
   "source": [
    "import os\n",
    "import glob\n",
    "import numpy as np\n",
    "import pandas as pd\n",
    "import matplotlib.pyplot as plt\n",
    "import rasterio\n",
    "import xarray as xr\n",
    "import rioxarray as rxr"
   ]
  },
  {
   "cell_type": "code",
   "execution_count": 5,
   "id": "9b1e1bcc",
   "metadata": {},
   "outputs": [],
   "source": [
    "root = r\"C:\\Users\\duong\\Documents\\UET-VNU\\K68-CS1\\HKII_2024-2025\\PM2.5\\Feature_Maps\""
   ]
  },
  {
   "cell_type": "code",
   "execution_count": 6,
   "id": "3ab05ad4",
   "metadata": {},
   "outputs": [],
   "source": [
    "with rasterio.open(os.path.join(root, \"SQRT_SEA_DEM_LAT.tif\")) as src:\n",
    "    sqrt_arr = src.read(1)\n",
    "    nod_sqrt = src.nodata   "
   ]
  },
  {
   "cell_type": "code",
   "execution_count": 7,
   "id": "447373f8",
   "metadata": {},
   "outputs": [],
   "source": [
    "nrow, ncol = sqrt_arr.shape\n",
    "rows, cols = np.indices((nrow, ncol))"
   ]
  },
  {
   "cell_type": "code",
   "execution_count": 8,
   "id": "e1de2ecb",
   "metadata": {},
   "outputs": [],
   "source": [
    "records = []\n",
    "for var in [\"PRES2M\",\"RH\",\"TMP\",\"TN\",\"TP\",\"TX\",\"WDIR\",\"WSPD\"]:\n",
    "    for fp in sorted(glob.glob(os.path.join(root, var, f\"{var}_*.tif\"))):\n",
    "        # parse ngày\n",
    "        date_str = os.path.basename(fp).split(\"_\")[-1].replace(\".tif\",\"\")\n",
    "        time = pd.to_datetime(date_str, format=\"%Y%m%d\")\n",
    "        with rasterio.open(fp) as src:\n",
    "            arr = src.read(1); nod = src.nodata\n",
    "        \n",
    "        # mask pixel không hợp lệ\n",
    "        mask = (arr != nod) & (sqrt_arr != nod_sqrt)\n",
    "        \n",
    "        records.append(pd.DataFrame({\n",
    "            \"time\": time,\n",
    "            \"row\":  rows[mask].ravel(),\n",
    "            \"col\":  cols[mask].ravel(),\n",
    "            \"variable\": var,\n",
    "            \"value\":    arr[mask].ravel(),\n",
    "            \"SQRT_SEA_DEM_LAT\": sqrt_arr[mask].ravel()\n",
    "        }))\n"
   ]
  },
  {
   "cell_type": "code",
   "execution_count": 9,
   "id": "ade44e7f",
   "metadata": {},
   "outputs": [],
   "source": [
    "df_long = pd.concat(records, ignore_index=True)"
   ]
  },
  {
   "cell_type": "code",
   "execution_count": 10,
   "id": "a007db1f",
   "metadata": {},
   "outputs": [],
   "source": [
    "vars_order = [\"PRES2M\",\"RH\",\"TMP\",\"TN\",\"TP\",\"TX\",\"WDIR\",\"WSPD\"]\n",
    "\n",
    "df_wide = (\n",
    "    df_long\n",
    "      .pivot(index=[\"time\",\"row\",\"col\",\"SQRT_SEA_DEM_LAT\"],\n",
    "             columns=\"variable\",\n",
    "             values=\"value\")\n",
    "      .reset_index()\n",
    ")"
   ]
  },
  {
   "cell_type": "code",
   "execution_count": 11,
   "id": "34c91265",
   "metadata": {},
   "outputs": [],
   "source": [
    "df_wide.columns.name = None\n",
    "df_wide = df_wide[[\"time\",\"row\",\"col\",\"SQRT_SEA_DEM_LAT\"] + vars_order]"
   ]
  },
  {
   "cell_type": "code",
   "execution_count": 12,
   "id": "0cc67cee",
   "metadata": {},
   "outputs": [
    {
     "data": {
      "text/html": [
       "<div>\n",
       "<style scoped>\n",
       "    .dataframe tbody tr th:only-of-type {\n",
       "        vertical-align: middle;\n",
       "    }\n",
       "\n",
       "    .dataframe tbody tr th {\n",
       "        vertical-align: top;\n",
       "    }\n",
       "\n",
       "    .dataframe thead th {\n",
       "        text-align: right;\n",
       "    }\n",
       "</style>\n",
       "<table border=\"1\" class=\"dataframe\">\n",
       "  <thead>\n",
       "    <tr style=\"text-align: right;\">\n",
       "      <th></th>\n",
       "      <th>time</th>\n",
       "      <th>row</th>\n",
       "      <th>col</th>\n",
       "      <th>SQRT_SEA_DEM_LAT</th>\n",
       "      <th>PRES2M</th>\n",
       "      <th>RH</th>\n",
       "      <th>TMP</th>\n",
       "      <th>TN</th>\n",
       "      <th>TP</th>\n",
       "      <th>TX</th>\n",
       "      <th>WDIR</th>\n",
       "      <th>WSPD</th>\n",
       "    </tr>\n",
       "  </thead>\n",
       "  <tbody>\n",
       "    <tr>\n",
       "      <th>0</th>\n",
       "      <td>2021-12-30</td>\n",
       "      <td>0</td>\n",
       "      <td>316</td>\n",
       "      <td>1.303528</td>\n",
       "      <td>86996.750000</td>\n",
       "      <td>79.206245</td>\n",
       "      <td>11.043369</td>\n",
       "      <td>8.35998</td>\n",
       "      <td>0.0</td>\n",
       "      <td>15.215998</td>\n",
       "      <td>185.410431</td>\n",
       "      <td>1.623216</td>\n",
       "    </tr>\n",
       "    <tr>\n",
       "      <th>1</th>\n",
       "      <td>2021-12-30</td>\n",
       "      <td>0</td>\n",
       "      <td>317</td>\n",
       "      <td>1.303528</td>\n",
       "      <td>86996.750000</td>\n",
       "      <td>79.206245</td>\n",
       "      <td>11.043369</td>\n",
       "      <td>8.35998</td>\n",
       "      <td>0.0</td>\n",
       "      <td>15.215998</td>\n",
       "      <td>185.410431</td>\n",
       "      <td>1.623216</td>\n",
       "    </tr>\n",
       "    <tr>\n",
       "      <th>2</th>\n",
       "      <td>2021-12-30</td>\n",
       "      <td>1</td>\n",
       "      <td>315</td>\n",
       "      <td>1.303528</td>\n",
       "      <td>87366.351562</td>\n",
       "      <td>81.731247</td>\n",
       "      <td>10.776867</td>\n",
       "      <td>8.35998</td>\n",
       "      <td>0.0</td>\n",
       "      <td>14.320002</td>\n",
       "      <td>181.923721</td>\n",
       "      <td>1.581845</td>\n",
       "    </tr>\n",
       "    <tr>\n",
       "      <th>3</th>\n",
       "      <td>2021-12-30</td>\n",
       "      <td>1</td>\n",
       "      <td>316</td>\n",
       "      <td>1.303528</td>\n",
       "      <td>87366.351562</td>\n",
       "      <td>81.731255</td>\n",
       "      <td>10.776867</td>\n",
       "      <td>8.35998</td>\n",
       "      <td>0.0</td>\n",
       "      <td>14.320002</td>\n",
       "      <td>181.923721</td>\n",
       "      <td>1.581845</td>\n",
       "    </tr>\n",
       "    <tr>\n",
       "      <th>4</th>\n",
       "      <td>2021-12-30</td>\n",
       "      <td>1</td>\n",
       "      <td>317</td>\n",
       "      <td>1.303528</td>\n",
       "      <td>87366.351562</td>\n",
       "      <td>81.731247</td>\n",
       "      <td>10.776867</td>\n",
       "      <td>8.35998</td>\n",
       "      <td>0.0</td>\n",
       "      <td>14.320002</td>\n",
       "      <td>181.923721</td>\n",
       "      <td>1.581845</td>\n",
       "    </tr>\n",
       "  </tbody>\n",
       "</table>\n",
       "</div>"
      ],
      "text/plain": [
       "        time  row  col  SQRT_SEA_DEM_LAT        PRES2M         RH        TMP  \\\n",
       "0 2021-12-30    0  316          1.303528  86996.750000  79.206245  11.043369   \n",
       "1 2021-12-30    0  317          1.303528  86996.750000  79.206245  11.043369   \n",
       "2 2021-12-30    1  315          1.303528  87366.351562  81.731247  10.776867   \n",
       "3 2021-12-30    1  316          1.303528  87366.351562  81.731255  10.776867   \n",
       "4 2021-12-30    1  317          1.303528  87366.351562  81.731247  10.776867   \n",
       "\n",
       "        TN   TP         TX        WDIR      WSPD  \n",
       "0  8.35998  0.0  15.215998  185.410431  1.623216  \n",
       "1  8.35998  0.0  15.215998  185.410431  1.623216  \n",
       "2  8.35998  0.0  14.320002  181.923721  1.581845  \n",
       "3  8.35998  0.0  14.320002  181.923721  1.581845  \n",
       "4  8.35998  0.0  14.320002  181.923721  1.581845  "
      ]
     },
     "execution_count": 12,
     "metadata": {},
     "output_type": "execute_result"
    }
   ],
   "source": [
    "df_wide.head()"
   ]
  },
  {
   "cell_type": "code",
   "execution_count": 14,
   "id": "f7608e04",
   "metadata": {},
   "outputs": [],
   "source": [
    "df_wide.to_csv('features_map.csv', index=False)"
   ]
  },
  {
   "cell_type": "code",
   "execution_count": null,
   "id": "7322a2fa",
   "metadata": {},
   "outputs": [],
   "source": []
  }
 ],
 "metadata": {
  "kernelspec": {
   "display_name": "base",
   "language": "python",
   "name": "python3"
  },
  "language_info": {
   "codemirror_mode": {
    "name": "ipython",
    "version": 3
   },
   "file_extension": ".py",
   "mimetype": "text/x-python",
   "name": "python",
   "nbconvert_exporter": "python",
   "pygments_lexer": "ipython3",
   "version": "3.12.4"
  }
 },
 "nbformat": 4,
 "nbformat_minor": 5
}
